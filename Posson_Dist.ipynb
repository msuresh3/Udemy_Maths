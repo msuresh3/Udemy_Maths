{
  "nbformat": 4,
  "nbformat_minor": 0,
  "metadata": {
    "colab": {
      "provenance": [],
      "authorship_tag": "ABX9TyMMtpcchoe7qfYTaX7I6gvr",
      "include_colab_link": true
    },
    "kernelspec": {
      "name": "python3",
      "display_name": "Python 3"
    },
    "language_info": {
      "name": "python"
    }
  },
  "cells": [
    {
      "cell_type": "markdown",
      "metadata": {
        "id": "view-in-github",
        "colab_type": "text"
      },
      "source": [
        "<a href=\"https://colab.research.google.com/github/msuresh3/Udemy_Maths/blob/main/Posson_Dist.ipynb\" target=\"_parent\"><img src=\"https://colab.research.google.com/assets/colab-badge.svg\" alt=\"Open In Colab\"/></a>"
      ]
    },
    {
      "cell_type": "code",
      "execution_count": null,
      "metadata": {
        "id": "8N2RdDhLsAc0"
      },
      "outputs": [],
      "source": [
        "import numpy as np\n",
        "from scipy.stats import poisson\n",
        "import matplotlib.pyplot as plt\n",
        "\n",
        "# Example: Average rate of 5 events per unit of time (λ=5)\n",
        "lambda_value = 5\n",
        "\n",
        "# Calculate the probability of seeing 0, 1, 2... events up to 15\n",
        "k_values = np.arange(0, 16)\n",
        "probabilities = poisson.pmf(k_values, lambda_value)\n",
        "\n",
        "# Display results in table format\n",
        "print(\"k  \\t P(X=k)\")\n",
        "for k, p in zip(k_values, probabilities):\n",
        "    print(f\"{k} \\t {p:.4f}\")\n",
        "\n",
        "# Create a plot to visualize the distribution\n",
        "plt.bar(k_values, probabilities)\n",
        "plt.xlabel('Number of Events (k)')\n",
        "plt.ylabel('Probability (P(X=k))')\n",
        "plt.title(f'Poisson Distribution (λ = {lambda_value})')\n",
        "plt.show()\n",
        "\n",
        "# Calculate specific probabilities\n",
        "print(f\"\\nP(X = 3): {poisson.pmf(3, lambda_value):.4f}\")\n",
        "print(f\"P(X <= 3): {poisson.cdf(3, lambda_value):.4f}\")\n",
        "print(f\"P(X >= 3): {1 - poisson.cdf(2, lambda_value):.4f}\")"
      ]
    }
  ]
}