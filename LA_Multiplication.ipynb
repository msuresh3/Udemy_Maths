{
  "nbformat": 4,
  "nbformat_minor": 0,
  "metadata": {
    "colab": {
      "provenance": [],
      "authorship_tag": "ABX9TyOX7I74+BViHdFaibOhvWpK",
      "include_colab_link": true
    },
    "kernelspec": {
      "name": "python3",
      "display_name": "Python 3"
    },
    "language_info": {
      "name": "python"
    }
  },
  "cells": [
    {
      "cell_type": "markdown",
      "metadata": {
        "id": "view-in-github",
        "colab_type": "text"
      },
      "source": [
        "<a href=\"https://colab.research.google.com/github/msuresh3/Udemy_Maths/blob/main/LA_Multiplication.ipynb\" target=\"_parent\"><img src=\"https://colab.research.google.com/assets/colab-badge.svg\" alt=\"Open In Colab\"/></a>"
      ]
    },
    {
      "cell_type": "markdown",
      "source": [
        "# **Linear Algebra**\n",
        "**Vector Multiplication**\n",
        "\n",
        "1. Scalar Product   \n",
        "2. Dot Product  \n",
        "3. Element wise Product\n"
      ],
      "metadata": {
        "id": "yRIKS7p1I0eQ"
      }
    },
    {
      "cell_type": "code",
      "execution_count": 2,
      "metadata": {
        "id": "9-z79AvKIrkB"
      },
      "outputs": [],
      "source": [
        "import numpy as np\n",
        "import matplotlib.pyplot as plt\n",
        "#import math"
      ]
    },
    {
      "cell_type": "code",
      "source": [
        "arr1 = np.array([2,3])\n",
        "arr2 = np.array([4,5])"
      ],
      "metadata": {
        "id": "Lq1UFgelJ6Ec"
      },
      "execution_count": 19,
      "outputs": []
    },
    {
      "cell_type": "code",
      "source": [
        "# Scalar Product\n",
        "arr3 = 5 * arr1\n",
        "arr3"
      ],
      "metadata": {
        "colab": {
          "base_uri": "https://localhost:8080/"
        },
        "id": "jZBeQ0w_L-3U",
        "outputId": "20fdb7c3-6dbe-499e-fe9a-7a356b40db57"
      },
      "execution_count": 16,
      "outputs": [
        {
          "output_type": "execute_result",
          "data": {
            "text/plain": [
              "array([10, 15])"
            ]
          },
          "metadata": {},
          "execution_count": 16
        }
      ]
    },
    {
      "cell_type": "code",
      "source": [
        "# Dot Product\n",
        "arr3 = arr1@arr2 # ((2*4) + (3*5)) => 23\n",
        "arr3 = np.dot(arr1,arr2) # ((2*4) + (3*5)) => 23\n",
        "arr3"
      ],
      "metadata": {
        "colab": {
          "base_uri": "https://localhost:8080/"
        },
        "id": "gxC01CevMGwQ",
        "outputId": "f7a8dcfe-8b2c-42ad-a489-aa4b98477d1d"
      },
      "execution_count": 22,
      "outputs": [
        {
          "output_type": "execute_result",
          "data": {
            "text/plain": [
              "23"
            ]
          },
          "metadata": {},
          "execution_count": 22
        }
      ]
    },
    {
      "cell_type": "code",
      "source": [
        "np.dot([2j, 3j], [2j, 3j])"
      ],
      "metadata": {
        "colab": {
          "base_uri": "https://localhost:8080/"
        },
        "id": "XNirZIY7NMDU",
        "outputId": "faa4e2f8-1abe-4497-f829-3fb73bb6988c"
      },
      "execution_count": 23,
      "outputs": [
        {
          "output_type": "execute_result",
          "data": {
            "text/plain": [
              "(-13+0j)"
            ]
          },
          "metadata": {},
          "execution_count": 23
        }
      ]
    },
    {
      "cell_type": "code",
      "source": [
        "a = [[1, 2], [3, 4]]\n",
        "b = [[5, 6], [7, 8]]\n",
        "np.dot(a, b)"
      ],
      "metadata": {
        "colab": {
          "base_uri": "https://localhost:8080/"
        },
        "id": "bHDagwsUNemg",
        "outputId": "00266aa2-7df2-41d1-895c-a759e83e442b"
      },
      "execution_count": 25,
      "outputs": [
        {
          "output_type": "execute_result",
          "data": {
            "text/plain": [
              "array([[19, 22],\n",
              "       [43, 50]])"
            ]
          },
          "metadata": {},
          "execution_count": 25
        }
      ]
    },
    {
      "cell_type": "markdown",
      "source": [
        "![image.png](data:image/png;base64,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)"
      ],
      "metadata": {
        "id": "_cZsJnWyX1Li"
      }
    },
    {
      "cell_type": "markdown",
      "source": [
        "![image.png](data:image/png;base64,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)"
      ],
      "metadata": {
        "id": "rhQpdvJmibgj"
      }
    },
    {
      "cell_type": "code",
      "source": [
        "# Example vectors\n",
        "vector1 = np.array([1, 2, 0, 3, 1])\n",
        "vector2 = np.array([2, 0, 1, 1, 1])\n",
        "\n",
        "# Compute cosine similarity\n",
        "cosine_similarity = np.dot(vector1, vector2) / (np.linalg.norm(vector1) * np.linalg.norm(vector2))\n",
        "print(\"Cosine Similarity:\", cosine_similarity) # 58.55% similiar"
      ],
      "metadata": {
        "colab": {
          "base_uri": "https://localhost:8080/"
        },
        "id": "YUVz_ZTxiDJe",
        "outputId": "e57beaf2-06e2-4f15-fe12-4178afd1af7e"
      },
      "execution_count": 27,
      "outputs": [
        {
          "output_type": "stream",
          "name": "stdout",
          "text": [
            "Cosine Similarity: 0.5855400437691198\n"
          ]
        }
      ]
    },
    {
      "cell_type": "code",
      "source": [
        "# Element wise Multiplication\n",
        "arr1 = np.array([2,3])\n",
        "arr2 = np.array([4,5])\n",
        "arr3 = np.multiply(arr1,arr2)\n",
        "arr3"
      ],
      "metadata": {
        "colab": {
          "base_uri": "https://localhost:8080/"
        },
        "id": "SsDqFnMbMlYk",
        "outputId": "41af92b2-7535-4c07-a27a-1ecf782838c0"
      },
      "execution_count": 4,
      "outputs": [
        {
          "output_type": "execute_result",
          "data": {
            "text/plain": [
              "array([ 8, 15])"
            ]
          },
          "metadata": {},
          "execution_count": 4
        }
      ]
    },
    {
      "cell_type": "markdown",
      "source": [
        "![image.png](data:image/png;base64,iVBORw0KGgoAAAANSUhEUgAAAXAAAAECCAYAAADn84z1AAAAAXNSR0IArs4c6QAAAARnQU1BAACxjwv8YQUAAAAJcEhZcwAADsMAAA7DAcdvqGQAADUUSURBVHhe7Z19cBVVnve/Pjv1jAO5GRNviJIJzA1GiMtLWEkUVwIBxNl9aowZZrWmjFmfB+LoPFW7DrJ/ZEpLKC35Y/Fl/xgZBZ+aJ0JZ44jZOLtbgzKA4MiYYPE6EzDAXUIFhVyD5gbmpZ6afc45fbrv6b5935J7SRq/n1RXbnff7nP6dN/v+Z3fOX1+18ycVfVfIIQQEjj+m/5PCCEkYFDACSEkoFDACSEkoFDACSEkoFDACSEkoFDACSEkoFDACSEkoFDACSEkoFDACSEkoFDACSEkoFDACSEkoFDACSEkoFDACSEkoFDACSEkoFDACSEkoFDACSEkoFDACSEkoFDACSEkoBRewMtXounBlQjr1XDDWjQ1VOu1CcTsVVg2W3+eiEz0/BFCrjiFF/Cy61A0PIiYWqlGZDpw7kSfWpswyEqmoQQimxOTiZ4/Qsi4UHABD5eWYOTiJ3rtRhSHLuKL83p1oiArGUzAfNlM9PwRQsaFAkWlr0bdgw/g5pBeTWIEH2/fiB5fQWrAsh8sxQ16DQO7sK1rr/oo3S93l3Rjx8V63D27yNmntst1zad71+FXx/SKZPYqPNBQqVcE8aPY8dp21SpwH5vI181N61BXoTenza91rcUH3Wla572InpdexcdiPeP5pJW9co4QaouRY9vQtbcvZf7SXrM613Xo3f45atQ5z6p8wJWHRBqEkGDyF+FwyTr9OY8M4dyRPTja82dMqfsKel96AXt6xPrvZ2DuVz7Ctq2v49wl/VUTKTx/fzv+JMSo69/F9/uvR9Vtt+Mbv9+D6AXgG7UrUFERwQ0Xfo6fv/kWjp44o4Sx4abzQqASadzRsAzX9n9gpaHEu0QI37P45R6ZpwFcO285bov8WR1/+cwgrp01F1/t2ybO+W/iGCnI/4C5XxUi/+omfCjO+cnX7sBtS2rwx56D+MzKqcEQiiJLUHHNAE6cGdLbGrDwf8zEyN4XcOBCFueTefybG/Gfdh7FNSyoq1XXcPJ33vxZlUHaa47cgQXTK1FReQG7VZoiHZHGt77Z7+RBlu2sJcudsiWEBI/CulDKy1AU/1xInIV0p3x6yrKm/bj5dmEtCqvasSTPb0fvAHDDjAaxUo2vF4t/Yr9jNQrBr6mQVqll5SqO7cXH8SJMnWl1lIYH92LbS6a124cvhvVHhXTrCGt0SJ9zdoNoOQiLVVvoktjebnyKSlSm6EQcujiCopIb9Zq0jutxg7DyD8vryHg+IfDzK4U13JXIo+savPlbJazoDNcsyhnS6jbSVITm4O4mWZYCUbZdL3laKoSQQFFYAffpwEzdEdeAStG89wr8x13rLBdK+VxMDQnh+k1ivxJ88XfzynV44Af24nbdxM5bbojEfsuN4PjlZSWDEZ0vS0whxLXO+P4DpksnFcVl1kgbUan8tRDmj9+R4pnF+fR1uTt2+4T4ilaIrKhc+RPXPEOcb6Db486xKiWrEpHlLI6Qom7ttDj2KnYcGwEqlqo8TMiRQISQnLhmwvjAld82gnOpfM3KFQLHpyyRroSai+n8uNqfbvi87W2wfcbyvPM/1/utfHv92Rkx8qb8zLD99lmcz+e6XLjyl+qarXSmnpHbb3Rfnw+2/5w+cEKCTYEscMuC7BmQQi0saNFU37b9KEakkMrPLpdGdii3gOGOsTFdF0nMrvaIt0Bu81q0TivBoqg0R+t08HNxxhJ8fbZ26RitBEnO5zPwzZ/3mpWbRlvxHotdologxlj82N6Nyhovmj7X2UYICR4FdKFIl4gx9K3sOuDMEZcQuTg/KGQn4ceVSGvzgR+sws3ic2mJkCXP8R+fOgtU1KOuXG9Qlqg4xhArhCKI2Pulla9Go9j5svzqiWGOfYieEbmQgqi3WBa7OKftO/ZD5R2YOl/68E33RhbnU+Jv+tfNa/Dmz+ea9TU5PnTptopHETUqyNjQReX/nmekodws6e4HIWTCUyAXikAKywrg10bTv/JUBteEcqMkhtIlhhCmdkV4h9N53QIy3cTQubPoEaerM1wWzvGGpe4+xmdYYhJW/lRnpY8rJOP5lBtFViwW5jX45c97zeb51L6SbmfopYMnDXN4JiEkmBROwAkhhBSUgr+JSQghpDBQwAkhJKBQwAkhJKBQwAkhJKBQwAkhJKBQwAkhJKBQwAkhJKBQwAkhJKBQwAkhJKBQwAkhJKBQwAkhJKBQwAkhJKAEfDKrp9B5qBlV8mO8G88tehgdarsmvBU/uqsM+1+/G7v1pqxQxy2EE4/i0n789O0WnNCrWeE5R/+BGdikJ0lc13kIzRH5KY7ujYvQtlVtJoSQnLgqLPDTXbWY5yvehghniz7uohDc9tet5Z2RhXjonq2Yqb+SEe853t2PkgUHcb+epHxds8jvxm4h34QQMnquShfKTCGWG4SA4pIrenFWzPzmXyIkLO5dRqSx3Uf2Iz75L1GbZfgadY7zbzgWN2It2H++GDO+uVpvIISQsVNQAZeugsOHzGUfNrfonV4af4Lbuj7CYr/ltZ9gkv5aZjZgaTVw6N0ZeLb3gt6WPScOzEd7ru4SD+ocu9r1WoJQ8Qz9iRBCxk7BBLx18z40h7vxXG0t5qnleXTHQ6j//ito1d9xsfsRfNh0K97zWx58BJf11zLTjk2vz8fP8hgrTFnUuIALoz1n9Q6sKB/GoSPJok4IIaOlYALe0bbI45fuwL7jAfT6CvF9qLoY/Qdy7AiVSF/4905hw4KbgPO/zGulQgghhfeBr+90XCiP1+XcpTi+CPGW4hvv25DwZ+dCrAXP2h2huA8bcukIJYSQDBTUhaKEuymM7o2WG+W5njQWeN584HnCEO9nD2zRG0dPrh2hhBCSiQIJeCsWzQoh3vO8EO7EOOeqcBoLPG8+8DygxVuO3R6NeDcuPYUNSzfoNUIIKQwFdaGEwuptFYXq1EysTlyk31qL96jcJoLdZ08C5ffh0Wq9Aatx/x0LEaIfnBCSRwok4B1oW9SJ05HmhP97Vi+e64oKVa/BolRDCa8ELa/g/TTDGRvnWi//TFsgrGjZAWksjiArv34n1unVJPruRvuBk8Y52lE78obv0EJCCBktV8Wr9OiqRfNTelMWtG7uxKL3msf0Cvu6zk6guTm1iGdCViRra9DLV+kJIaOk8KNQJhzSPw8MjEk0n8K88CBO6zVCCBkPrgoBr2o6hMP7UrwglEQE4dih0VvOkpYK4Pj77rlXckC9obq2Pvd5WgghxCDgLhRCCPny8iV0oRBCyNUBBZwQQgIKBZwQQgIKBZwQQgIKBZwQQgIKBZwQQgIKBZwQQgIKBZwQQgIKBZwQQgJKwd7ElNPHqhkIXWHV8o01mVWV/BjvziotOVf3CuQ4M6CcYvYua5bCBMM49G5usTdV2uV6BSfxzutWmDZVVjpa0ekcJ+YihHx5uSoscCl67vibKVDBhfXnXCgpE+ItBdcKj2YtuYj3atx/jxDvov34qR1i7fxNWKFDrKn4obWdnByLEJITXyIXygY8umAK4pf0ag7M/PoU4NIgzun1nKn+O9ROFhb7By04oTcxxBohZKwUXMAXyZn3dFCHtDMGFjQmprSA70NJ34+xf0RvyoGpxcXAyFlHfHPFqgB+i0Omxa4CHufmgiGEEJPCCnioHjUxGRdTBjV+Ht2ox+OdKRy8BYyJOXPB/0Yt9mP7qIITr8aUIvGv/D4jOs9B3J+D5WxXAFhw0DjHDjTq/YQQMhoKK+DxbrzSZnumO9D2cjfikeUpw5kVhPBWrKyGy32RGzNQOln8O/9Gwv994AJq78pNxGUFsBI/ds6hfOAUcULIGCisgMcG3B2LWwcwiBDCTrDfQmMFE0bfj8fgqmjHJim65qiVvp/j0KVi1M7NIfK8qADMCPe7d72BftyEhQtW6y2EEJIbE6cTsxA+8PASzBDWc6i63XFdqFEoyh0yFut3Cy6Mwpfu5hSGRtGhSgghNoUV8HCFu9OypQJliCPWp9dNCuEDVx2F2u3huC7EduUOscZgZ0SOAU/yeVt+8fjwKb2ent1nTwJFlWrIYALLNXPxi9H45Qkh5Ap0Yj682ZbwVmz+fj1C0Z3BisIe24NTHneJ6hSdfBL7s+0UlS4XLMRKw13SuPQ+TMNJHPerzAghJAsK3onZG16jhxGuQX2sE/Oa1+udEwVRsew7hPedisbLFvzs7Q04VJQYhfJQ9QXnLUrF+k5xfZ1pAiVb5zg11XTlJN7EJISQ0RDwoMbWq/QY6+vnLa+gc/H7aHZGzOTOus5OoLl5DNHu83QthJAvDROnE3McaV1cA5wbvXhL8Z0XHuSr8ISQK8pVIeBVTRne8sxAVTiGw2Oy4CuA4++PetIuOZnVYXtSLkIIyZKAu1AIIeTLC10ohBASUCjghBASUCjghBASUCjghBASUCjghBASUCjghBASUCjghBASUCjghBASUCjghBASUCjghBASUCjghBASUCjghBASUCjghBASUCjghBASUCjghBASUCjghBASUCjghBASUCjghBASUCjghBASUCjghBASUCjghBASUCjghBASUCjghBASUCjghBASUCjghBASUCjghBASUCjghBASUCjghBASUCjghBASUCjghBASUCjghBASUCjghBASUCjghBASUP4iHC5Zpz8XhvKVaPrOLfjsSC8ui9Vww1rcNX0QJ84MWft9uLlpHb416884euKM3pKB2avwwHebMLduCaq+NoDPpv8vNDfciE90mhMCTx7TXX9+qEZdUyP+dEKXgUr/r/DHnoP4TO3PPzc3rcL1Jwp3/vSI633wH1B3XX7KVj6nOT1D4jlfduv/Q3QsaYt7tGzKQUQvyJUGLPvB/0TV7/fodVJoctadDFyJ30PhLfCy61A0PIiYWqlGZDpw7kSfWvOnGl8vBkYufqLXMyF+uPMrMXJsG7a9tA5de/sQ27sR217brtOcCCTnsdDc3PQAboZd7oJjr4q0X8XHejXfSMGrK/4cha6WUnMjikPiuRnKT9mWlhQBznObCSG2K+cAY0lbGjoNJTJJvV6GIowk1kmByVV30nOlfg8FF/BwaYlRKPJHdhFfnNervuT6Q8zvD7cwXOk85vdhzIbcBK8AzK7GDTiLs8f0+phoQGUF8OmpvXo9A/kQW2noIPHbCM+MoCgeRTTtb4Xkj/E0AEbPNTNnVf2X/pxHZHNWWICiQPwZwcfbN6JHPpzS8hDWi7hca/uxi7h5dkliv0A2berED8oicays5e6ebR0pkRZu14m54nwRnJPfgTy3/NwFrLDzY6StSXX+lLjyLDmLnhTWrV8ef40m3D09ih1GK0HmoeaiyL+0ztX5c823nQfZ9F4qxEwzsAvbxGnkNuxdh19pgUt3zWofxHGnqvFAQ6W1UZ3HT9A89zp+1LmusZarup9OayX5mfrUuB5Vzq4y9SsHK//J301V/jq/6e63dE3ZZSRw8uQ9JmX5eZ8Rq5y+uN26Bzsu1if2ec+RQxqp8H+GBOrc16F3++eoUWnofZnSTFdWAnd63nucjP0s9mCpc1zSfS/pTpSTzo/3d2ceo3DlU5S5R3fsdBPXZj1/xQc9aXvuW8/51L+HQlAgH/gQzh3Zg6M9f8aUuq+g96UXsKdHrP9+BuZ+5SNs2/o6zl0SX5MP/9/ciP/c/ix+uUfs778RdUuq8d9xHqf3SN+RLIx/wNyvikJ4dRM+FOf45Gt34LYlNcqXe/bMB2J9AW762gm1/6D0P0buwILpf7COV5/LcP0tVfjs36w0/jh1Bebecr32baY/v6/vSt/4EfFAdP27vEZ5zibU1dvndHPZJ4/fqF2Bij/+Fh86vrYG1C6L4E/H37L8ndnm+4/iAdv6f0UeBnDtrDsxNyL9d3sRleU8fVj8cES5yzTKF4hjJyN24ANR7pmuuRpV9XNxfTii75U4f//1qLrtdnzD1x8r7vV5sV+cX93HD0ZZrt5nQVzDgrpaXNtv51n8KIbt67X239GwTO+Hu0zlPfr72/En+x558p9d+etnKNP9vnBQrC9BRdzKmzpeXUs1hpxjxO9g2VLMTdH3cfnMoLh/c/HVvm34+Zv/pq7Xvgc3XPi52PaWvobZKNbXm2sayaR7hkS5qDKoREXlBexW91CURcY0xTm/sxzXfJiirMTx3/pmv/NMyGuatWR5iudKkiiHvzhknVP+lmrr7nDf9wqjnETepfg23HTeev59npVsdEem+9VPP0iUZXkj6mrt35Al8A3l1m9aXkvi9/k+Tib9HgpHYV0osmkZT/iBpDsl0SwVFpKwXEaOdSWssvPb0Tsg/tvHzG4QNZmowY0aLLa3G5+iEpWzrXXZVBk5c8TZL9Owj1ef/Sw/u2mTxfmTOYJfv+SuzYcujuhP/rjzaLk3XM1zTxM863w71kEfeg6eBSqqcbNYM8tAYTTPww1NGa7ZakomW3NpXATe5n/GNLyIH77qIzCehWN78XG8CFNnVqvV6Dvr3PkZ/FzkyMbtMrr5dmFZifw790g/VzfMaBArWZa/U36Z7rfXXWVfyzbjmL04fGwERdPnIqy3uPE23/V6Sut0NGl4yOYZktazcw/t32vmNG8QlmldufX54y5x34znAKE5uLtJ3geBuC9dnrJ1kygH+zvWc1SE4jK5ZpW9fFadchLiXFchfzsJq9/9LGWhOyrdEXdfnfmMi0q9RqbxTuK6Pv7NUYyEIojI6/b8HgpJYQVcXogtOqKwZQemIwLaZ9nr94CqY6yHFOJHX/eDdXjAWYxmsbgZ0ldp+q1MsVR+qIFuQwTNH1s25/fhfB9isgY3jlHNKOc6vXjyWD4XU8XD4ZSDxHPD0+dbCNQMke+BvsQDKjE6KdXxRn7Uj1F9X94DUT7ygdb7LD7BcBwoKhUPuBazj39jCFyGB9IteFmk4UWXibtzWwjKa8LqUs+HKPPz0iVi3CfV/LV/UObx/v5rJSRSrDKWv86/XeFmvN8e8VXCKK5z9gPJx6TC60PX6ykFZDRpeEj/DPncwxS/19jQRSHK16FUrcl7tksJ7M0rZZ5WqcrAQZx/hxB8VCxV+W1q8HkWTNJphETfS/NZta7L/O1I+vDFsCivkhuz0B2B+o77eTefcd/+CVUZWQaX+/dQWAok4EIcHxQ3UPoG9c164AfSL2TfWFFDiwcw+SK91ozlu5IjN7yLqpG9D75LLJPPlWzpZDh/EvZ1QTTP7O9uE7W7Nx0Dbx59xNArgOnz7bffxNqfEDD9YzS+b16/hXH+jPlLxt3CsEibhpdMFYSw6GTFKn349v1RQmDnyTw+6ZnwkPH63GWd8X6r9Dydp9Lv6XzfWExL1ETmyRAEP4FQwmTeg1zTcJHpGUpxr3yegeRnYy9+pfIihVwaR24RVyPExH55/2QFZIm4p3KW+iAsWd/nzry/KZ6b5OvyXG/Sdbj3+6VrGkVeA8mL3++hUBRIwC3rqWdANmX0g7VdNDGch07UVOJHkKi5NcqycFsevhabjfcGun68Pg+hz4877fm9qBpfNCuNThlrm8/DbuPJY/LD0YB56Sw6SSZRMkmyMJPP573mcEO9skqkCGV6eJNJbgVJ0qWRG1YF5O6EsrbZefL9oacgY/mbZZ3F/bbE1pO297nOgBJno3yTy1sLjCkKOaaRE6met6Q0rbKz8mWJ8DLHRSaF3BJx6TZTlfCDKx1XixRyJeLK/WKLvr1YlqwqBw9m5ZbqvitL28SrKxl0J6n8lctElH/KCs/E//dQKAroQpEXYoirEDKYD6DyYVaixm5Gyc4i1ZtvH9OH6BlZS4vClasKXVNrH5q6gWYz0BRLv4fQJaaZz++P6ccV31dN+dTimpRHF9LCs1w2zsORRb5Vc9D0O+omvvrxeCoM9/l8rlkcK5ven+71d794rZMkkvKbOY0k9LOQKFdt+Ro/eMt/baHGuEsR1Xly5fn8oDhXwncukR1OSc15hU/5e8svw/1OKq9jfUq0nOdaYLUgEn5hN97y9StvTyWccxpesniGvC6CpDR12Qmj7NfKHWG5yG6Yn7hntrtCVtqWq2WOEHy9TxzvclUlYZWD6xihEX8tn6ODVitDlr33+I9PST9+faIctK44Pu+MuuPFvueJ8ld9ILqvQCHPIcpOtSZSVX4F4prCDCMUyItaAfxaN+nkj6jylMc1IR8aVXgC8SD0nImgzmd4lznsKGGJyQfoAUw9k+joUcN6SrotX6c89/zPXedS+7M+vz/qHNJiU4gWxt4opjYYQ85cJOfRqiRsP7tsoXSjeGU9hu3js8q3dd7EkDrTSkycX10Lks/nvmaZBzvv1nnNoVL2+cwhiG4SeTE73VKnkQLzWRCY51LPkv4RSUaO7cK56Ut1ud6YnD/P990dsunLX+XbGD6W8X47+TbugTd92fI0yt+Lk4b63iDm+V6P5xnLMY1kUj9DKj/278gkbblKvOf03HfPPU4+3sR+7naJj+b9ss/n96xauO+Zz2/azIef7riuU5SLGkp5HXqNllim35D391AorimYgBNCyGhRIut+H4QkU9hRKIQQMgos/7bHjUOSoIATQiYcyX0xxA+6UAghJKDQAieEkIBCASeEkIBCASeEkIBCASeEkIBCASeEkIBCASeEkIBCASeEkIBCASeEkIBCASeEkIByRQV80hN7sPi1n2CSXs+GKS9+hMVdcnkTU/Q2kpn7nrwbu7fdgvv0usVT6Dy0D5tb9OoYad28D4f3vYJWvZ5Eyyt4/1An1ulVQkh+mdgWeONPEInE0f/irXiv6bvwjXtKsmZdZzPKejajbaveUGi2PoxXesJo7nxKbyCE5JOJLeBVYVyLGC7t1utk9AhreHkkip1tHXrDlaGjbSdOR5bnzeonhCQo6GRW0mVSp4JfSqLoF9bYtJnH0fPgIzrUfgsir/0Q02TkDUUUvdrSdh8L/KHnBXz4jI/puPoO7G6ypntXnO5B4z+eFR8q8dNf3IKh7jjm16vwBviPb3+Afxaf/ulfvoO/rZJfllzCwed3YI1TScjj6jBdr5nHSaRr4tH6yXoNGOl+F99+WsaHy4LGW/CLNZXoc/IkMdMfbZ69+foUB7tDmD/rLDY98Du8Ibas6zyEZnRiXvN66yuS9Z043BTRKxbxnudxZ5YiL10oj8/qRXesHvX2aeLdeG7RwzDPoL4X3qnTbsXmfWtQczz7dAgh/hTOAl/1phBgaPeHWN4GphmCDDyJOV0/xJQTL1j7xdIjBL5G+7ovP7NEHBMVn6So35pWvM90vYXGb8ulB2eq6vCLJ+10JgsR+xyb1D4phCE8v00IYfi43vYWNnUD89fcjecb5ffl/jpcL0TZOt9b+I/TN+Bv/0VH7xDpPVofF6Kq03v+OFB/hz42W0Se6uGcw0r/DvyT3pt7ngUqXxCirvPVJfYblYz0fc8TAnv6iCHe0j/dFEb3xlrMq7WW53riCNW15WYth+pRE3ten+N5dKMej3tcJh3nYkCkVvvCO9C2qJbiTUgeKJCAC8t6SURYzVsQta3EV7+LXqnHNqvmoXS4B0cNYb78zBb0D0cQeSI7BfmnOcJKFRb3Q1v0BpzFQ0LATIt45PhZZYEqGitRXSys1y2WVSp54+kPcHB4MqrvlKJ/HUqd1oDFP/+jEERl0Qsr90azAhLs/h2+/W23JZwNZ7oSFr2V/g1ocCqdXPMsBL7xBtES+CCRjy0fiIpHf5a0VKAMccTM6E5bH8adtYtc/vCO93rFt3JEWNyvOGIsxPnlbsS9LpO+QXHeMCroRiEkrxRIwCMoEkJ4+RO31TwSS8jDpBvDQHEd6tQIE3sx3SmZCEGeYiT2uV7357NPDEmaIQPWxvGJS3Dj+M3xSygKXyc+n8V/dIvP9Xdh9y++IxbTMpbC+TucgbDI1b7vGJZ+LlzC0Cn9USHyIwxUK32L3PJsVTquYwRnYpf0p0zIkSmHcFgua+tFqeZIbMDlLsHWAQyKs4QT8Xb9txFCxsy4dWIWhYVUCAu8R7tPzMXXXVJApocT7oY3nt5huSGkO8YRa1vILQvfcmMkhH50Qj42zDyPCjXETwq3HJmiXSAbhfWsdxNCJj4FEvAoRoalle1uMyvR1ihrvDiciHCdM8mWa0ZOfY4Rabm7fNapLHlbrC0h/8vVerPGFnol5LMqPeOt0zEZpTP0R0WGlkTGPH+OIVHW13vcO5kEvnVxDUKyw1EIt+OPri4TZ86RcIV7HLifu8ZvGyFkzBRIwLciuieKa+tWI2ILz6o3UWMMeLj8zK8whAhqXnxSbxE0/gS3dX2EOav0egb++einQNUtrk5EOVpjt93p6GX3WfQNT8b81YkXXO578g7ML76Evvel7SlHgXgs6tWVmI5P8dst+uUYl1slhNtnTXb7rLNgelPiHFb6n2JvqpEsGfMcx5rdn4rWgNGZuvoOY8SKYOv76I37uDBCZXC+pjo13SNSsiJUj4c32xLeis3fr0coutM91lxVDDEMXNmGFSFXPdcUNCamEO3F99ii4DeMUI5EuRel6rPF0Nu34uirekUdD2dooS9phxHWAV1vGZ2cFmmH5KmhfrOMloF7v/tYgZNeFvgOIzSHKY4yzxJXOSQPI3QP5bNQQwsdzY6je+NOhNdaLhVplfsOPTTwHUYYTf6++zwcRkhIviisgBM3toB7xfdKIC3stWXYWducw6vtT6GzE2hOIeDZITtJlyO20T3ihRAydsatE5NcYbY+jJ3RCJY77o4sWF+Lspg59jN3WjcvR5XXpUIIyQu0wPOCfNnmLsxPNwRy+Dg2bQEeHC8LXJGbNdy6uROL3msevfiOyuonhGQLBZwQQgIKXSiEEBJQKOCEEBJQKOCEEBJQKOCEEBJQKOCEEBJQKOCEEBJQKOCEEBJQKOCEEBJQKOCEEBJQvmQCbkWf6TTmZmpd/5R7Puux4gRKEIsnNmQq5Gx96vuH9iXHowxvxY++twPmdOCpvj/lxY9wmxmOTuXF55wORjSefa845dC49BQ2fC+xPOpMQ+v//UIgZzq0rjFxv2YuOOjK148WJCZp9/u+RAbHXmxOWezzDHhJez+wAY9+7yDuD+tVQfrvE1I4vtQWuJoOdWmFXssncmrW2pTTsPoip2H1xKhU4n3XwqQgC+ua3dFzlEh1vYnJsTguh+9V4emynVNdcrpLnE9HkpfivaJoP376+gy0y+Xd/ShZYIv4ejTr4MdXBB1wolnUg1K8H6q+gHfsfL3+Bi5Wtzsi3tG2SJRfJ5xQoHIq4q49KEcMf8A8Nc+8q3LLhN/9UOJ9H6bpNRvv/SDkSkEXygRFWZtCvHFpWG9JjYrg33QYRXUhlOKwCkvnzKmeExswqxzo723BCb0FsRbsPw9Mq9ygN4wHq1E7tRjxvp8jMQdYO3b1DSM0dQlm6i0uXv2uKIctoiAjuPb6GI6ONVRf9Q5h9QvxFveDQk0mCuMn4Kp534nNdtPXaZLLCf/tJqlcOj0z2RnNeO9+P5dBCjeCsr6F4MmIMo+navoqK84MumwsrmZ5BtZ3Gvm1lvfTTuu6AUuFxXvo3Rl4tjdlKAsXk55YhtJoD/qvvzfZ+l5spp+umd+OTcK63XQlQp+ZriZ7Sely2oKfvS3K4oAnykUmVt0rrGVRJp/VYY7X+p7qTj+dS0VWIPfX3IT+A8Ly/+C3ehsh4884W+AR1MsoMTKgrmrCS3G2orWobaq5HkazI9JS3I0gvGLpjEbQnKWv2UQ2uZUrQDXTU0yvqqy45KDLannsaf2lDEihagpbLhXnmuII1bVlENL5+FlMr2akBeXCDO3vekSFsiudY1YuIdTPGlSuCCttoH6tt1JMh2WVx4ddofTHiLjPa+sxKF03Ol/zuqLicWjOIKQmllWOkbOJ1oKHKXMiGNojyqRLXPTMOzFJb5dU1clpbhNpVzWlq9isCuSKVGyE5MC4u1BOHzF+setrUSUE9RUj1FZH22Z0x+1ABBEYcZEVyv84pogxBWbrw7jTU0F0vNeb52b4VkQfXIKo9C/ISsdVucTR/bLl35a4yzMTwvK8R7oN9mN7rtZvWixfuvRtOzx1KOG/zoLGpe2onXwS7+xq11uSufCYdiXtfgQfOmH8LE53GXOUPyUqjqio6FbmbggQMp6Ms4C7I5W3Tg1rl4bRrBYWeb0j2uvRqazXNXpfLpbkeGO4foT16e2YLBzeYMIdGBCWfSicKYCxFG8tkm8bPvG8YrrLmhMBljOgOlrLh3Ho3bsNn3guJEfIPx0TVao3wj4hE5wJ1YlZJc1rPfLAaVrrxQ6Aa402kNvkiIMImgsp5PnwgTu+XsP1M+FHLBji/XpuImmNiEmUk//ID7syE5VzTI72sO9nZhLinYuLiZCrkwkl4MoKCpVlaYlZzXBbyOel8qJUl43e2s2DD7x1cQ1CulJyorCPJU85E0aFS0NbUSEaOvGUsS61eEMOJczdwrVGxCTKyXfkh3SVIYpOef9s91dLBcqsTymxxFtWKmMV7xDCzth2C2U8xAYcVxMhQWBCCXhH207LqjY7JbUFa3VuWZabawSHFoPD8pCtAxiUnXaOL1M00ZemdhV0nJO+hGwrjDFgpqE6NTO5L/KJKI/vJ166ad3chvpQFDuNfgYT5VuW4l0wt4mNWbFYnZrpKjU5rNIS79G6TdxUNRmttvWdaI7E0b19AvelEOLDhBJwy6oWFnWkWftFxaJHK1gdXmL/xm7A8YGLRY3wsDukrP1x5/g2YFcad4XqOLPcMNmPfsgN6fJRI2Xs/K6tQe9G2WoIoWbxlfC4CmE6Xub0KzxeFxOWb4ogw+GtWFgu/k9eiIeMNx7Vcs9W//HWo+GpZj0aRpfJoWag63l0ixtVNdevI1EOq5QRo2/CCm++PG+pZsvpnkEst++JeoayC/ScLertzFGMjiIkFxjUON9IC1uJdPaCIH/szejMbTTNKNJJRrZopHh6RoRkQI2hn9WL5/Tbm4VgdGmM7nq85Od+iLx0As0TeYQUCTwTzAIn5CphfS3KUvYzEJIfKOAFIWS5B3JpQiu3T7qXSRKo5nkehyJWNYnzZTU5ldUHod5gvRLoIaXZuLesyayyH4qYkTHej9apQO977BIlhYUuFEIICSi0wAkhJKBQwAkhJKBQwAkhJKBQwAkhJKBQwAkhJKBQwAkhJKBQwAkhJKBQwAkhJKBQwAkhJKDwTcyxoiYx0q9RR+0JkDbgURnBXG5TmNOgWhMuqVe+5TzhzmRNT2JO1zKMvKhDowkyTujkm7Y9b7b6KDDSTvH9/JPiGmVk9wU3yU8KGSTYjjOpJpBSs+zGXTMDTnnxI0RiLyTmFc84iZd/2u4yMdNOdT8ImfjQAs8LUnTs4ASWeJf0bUD76zPU8tO+KVjhTHtqBaJQAZUVLYi8JiP8VGBkOIaiJhnJ5k1M0XszY6Ztzpttpf3O+Zuwwp4KVsXnlIGg1VcLzmkZtNgWxPBW/EiIt4rsLvN24CSmibzeH1ZftWKbGpGKrMg+b2JyLI7L4XtVdJ+kaPtpMNNW4l0kA1TotN/dj5IFp/CoCurgvR+EBAcKeL6p/itheZ/EfiMI8IkDv0Q/bsIsTxQYCxmQ+Fa8dzSMacXCBD0qI9l8Fxf03tyw5s3uP5AIerB71xvon7xQbNcbxonGuQsROv9GIrJ7392icilG7dwNeoMbK7LPYRTVhVCKwyq6jwpQnDNWVP3+XiNARawF+88D0yr90yYkKFDAs0DNNmdP/q+WNLPUCWFqzzlqjLDCl0Qw1NODSfckW9+LzPTTzRoYrkQJhjF0Ua8r2nFciFXJ11fr9TyxvtMoD2txRUpysRpTikRbYfiUXrfYffYkUFSZMlDEpCeWoTTag/7r7022vheb6aebNbAdm4TV7VQchFxFUMAzIP3QzWErpqUVfFdGjnGHKcuIssq9wmrQeKcQ7R6ceuYRRKMRlJtiFapHTUwHQ5Zpox6Pp5qmtkTG2ryACz7xIkPFM/SnPCD90CqKjV0mlgsiVNeWQkhnoHQycPGLRKvEYXIZpuqPblpQLpS9v0uUyZ4oSueYQaRF+c8adO6JFd0nl8DWllXurVAICRoU8AyoKPiujq0O7Dueg79U+37jfT9OHYh39yP48MFHcFl8vPCYx1UQ78YrTvzKDrS9LEPGLc9qnuqCoXzp7k7Ejvd6Hf91fpCuJd2hK4NLu4JIx9H9cuKedLRtFpVqBMtTtgBMZNDm+zDt0n5sN9xchAQRCni2GC6DrAMaSPG+y/L9PjtasfBGSteBm71R1ccHK8CDKpc8BpjITAwDrhEoHRiQ8anDmYJF64j7k0/inYIHbSak8FDAM2BFehECZbgMshqxYIh3+652vbHAXBwUtukUTNEjO0yycxfIoYxyFIy9pBgNI10oSribUdaj3TvGCJJkTmHoUgo//KVBnNMfC4sh3nmKbE/IeEMBT0srFs0KIa5EKuEyqApnsDW1eEMOJRyreIcr3L72lgqUCamM+XXKxc7iIopRWqLXFZa/19f/nMTTONokR8HYi/9omNbFNQjJMdNCuO+03TvV0v+eii24MJLsh2+svAkYOTsKSziMCpcLqRUVotKKp4xBqcUbcighxZtcPVDAs8BsmqtOzbQt9Q14VIv3qN0mJqF6POz4dlux+fv1CEV3pniJpR27+oYxbYE95lyOgbb8vbvyPQojVJaIP6k6NdO7L3Yf2Y94+X167LWgegdWlA/j0JHRVHDuTuTWzW2oD0Wx0+krcNO4VIs33SbkKoMCnpYOtC3qxGkV4Fb7v+WbkV3C0gvVYJFPR+LMBd9Sb2CGqtux4XunXMuPFoxiKJ+wdHvDa3T6a1AfS/8G5YkD862Xd3Sa6qWePAuX7NjtjEbQrMvksHozUpSTENaaxSk6EmMtokKTL+/o8lAv9cxP3bGblji6j5epgMfqntTF0Fnb7D8KRbSGFso3MCcvxEO6TJzFfsEpCVFR7ks3LJKQiQFfpR8rGV/t9ifja/LZMMq01WvrKPyr9OiqRXMOgflHez1uRpd20v0Qeelc/D6aU1j1hEwEaIET4oP08+McxZtMbCjgeSGE+rWiOZ/qBRsX1tC7rIciZiSHtKWFK9JO78PPH1VNIl/p3hw1UG+75nEoYvZp+9+PqnAMh3NpPRAyDtCFQgghAYUWOCGEBBQKOCGEBBQKOCGEBBQKOCGEBBQKOCGEBBQKOCGEBBQKOCGEBBQKOCGEBBQKOCGEBBQK+FjRr6erWfmM19kbl5oz3yWmd3VFsXG96i2DKexBJPFFK5hEutfBU6RtM3PBQWxYakRez/D9/JHqGjVyvnRXmZiBo90Biqe8+BFue8LYoK4hXRDjFGlX7zDux6nEtLY+30+VF0ImGhTwvBC3ovXo2f2kcKppXF+fgXaxqOldnalL16PZFdWnBZHXPsLiFyswMhxDUVOaSDi+uNO2kXl4qLpYr2lULMtadKaKe5BnTneJfHlnW7QjFelVm3XN7qg+k57Yo8phciyOy+F7VYSgpMj0aXClLdNU09da96NdTWt7EPeryEXe+5GcF0ImKhTwvLMBS4Vw9h9IRH7ZvesN9E9eKLbrDS5k8N5b8d7RMKYVR4CjqSPhZIeMPnNKiLeQ9kt60wRBtQhksItLw3pLai4/s0SUw2EU1YVQisMqQpAr2HMONM61QtttsoNa9N0tKtVi1M41WieEBBAKeBYkmtRZNK3DlSjBMIYu6nVFO46fTxETUiGs8CURDPX0YNI9ydb3IjP9dC4VSfXf6dBh87F/RG8rBEaQZ3tJHwBBVmzAoXdn4Nne7KqnSU8sQ2m0B/3X35tsfS8200/n6liNKUWiMvPEBN199iRQVJkioAMhwYACngEVQi1sxX9UwXtrn0d33B3Sy0WJjA15ARd8Is14Y0I6NN4pRLsHp555BNFoBOWmWIXqURPTgYNl2qjH4+n818K6bC906DDphzaCPNuBnkN1bWmEtB2bRKWSfQSeFpQLde3vEmWyJ4rSOU/q7RJR/rMGnXvyXA9Qv7bTPyIPZqB0coqYoJPLMFV/JCSIUMAzIMOHuf24Hdh3PM/e0d2P4MMHH8Fl8fHCYx5XQbwbrzhRYTrQ9nI34pHl49u5pnzp7qg5He/15tlnLF1LSxCVfqhXv4v3Hnva2qyIo/vlxD3paNssKtUIljMEGvmSQQHPFsNlkL9gDFkQGzAqD8HWAQwKCzTs60+/0hgjOPIYjCEzMQy4Qq51YEBY9mbwaUK+DFDAM6CG8kmBMlwG5oiFJC4OCvtwCqaoEQ5uvH7YiYccyihHwdhLitEwznDEZpT1aPfOhB21cQpDl1L0P1waxDn9kZAgQgFPSysWzQohrkQq4TKoCqexNWNncRHFKC3R64oNmFWewg+biXCF29feUoEyIZUxe0RFXnkaR5vkKBh78R8NI+NFhuJWv8CdtnunWvr+rxRhVLhcSK2oEBVmPOY3PnILLowk9z80Vt4EjJwtbF8BIQWGAp4FZtNcdWqmbam3Y1ffMKYtSLyo0rj0Pky7tF9s1xtyIVSPhx3fbis2f78eoejOMURtzxOhMlTpj1an5pV0X7g7kVs3t6E+FMXOFBHkdx/Zj3j5fYmXd6p3YEX5MA4dadcbCAkmFPC0dKBtUSdOR5oT/u9ZvXiuS1h6oRosStGReOLAfOvlHf3Wn3qpZ7QjQ4Sl2xteo9Nfg/pYZ9JLO1ca2bHbGY2gWZfJ4bU16N0oykkIa83iK9GRGEf38TI8bt+Tuhg6a5tTjEIRxFrwrHp5R7+JqV7qyWVEDCETEwY1HivS+lQC5h6VkQlpyavKwPumYi6MMm05rr0ZhawIZOdmM9BVi+Zc3tgf5fW4GV3aSfcjL3khpLDQAieEkIBCAc8LIdSvFc35rCaIsobe5W8oYg5pS6tSpJ3eh58/qppEvjK9OapRb7vmcShi9mkn349854WQQkEXCiGEBBRa4IQQElAo4IQQElAo4IQQElAo4IQQElAo4IQQElAo4IQQElAo4IQQElAo4IQQElAo4IQQElACKeCTVj2JSfrz1YwKJuF6HfwprBvfiQgJIROIwAn4pCf2oG5JhV77MmHNsjdPrxFCCF0ohBASUMZvMqvGn+C2x8K40BPGNDkT3HAPelRk9hZEXvshphXr7yGKXh3aS1nfzqxxcfS/uASXmj5CDf7VFbV8yovGNr90/g8w57FZuPD2cUy5pw7X6uOG3vZEhDeQM9Qtj3VjsK5eRaI5bc83LYMdG9FoZPg1J8yYjKCzbw3qnWnt4uh25pf2m7favS0xR/UAmsV2JwJOdPyDOhBCxp9xtsAjmBb+lRV/UYm3DKr7Q0w58YITl7FHCG+NDq57+ZklYj1uiXDTEkR3W2fJjDcdSQjTlsCJASnPW3pPiiC+mlBdDWI6sLEtsIebgE4Z1FctnULg1+B9HQJtXaeOoKP3P9cDVyiw7FmPZnHu0+KTrDgo3oQQybi7UIaOJixnrJqHUiHOR59JhEC5/MwW9A9HEHkiRfyyLHGloxnaY4u5SOfXx/EHhDHZDmTpR7wX+5ysWQGPT3eZobyE0HZFhdDLbVagXRMZimzeWCLwEEKIwTgLeBwj0qzUTLpRKF5xHeq6PsJiZzHdKaPFnY6F37YMxAYM8Y1ABqdXgQN0bEa1OO6UDrTtioqv2fE092Hz2OogQghxMaE6MYukIir3iOXWMJcPDat8QtBSgTLxT7k0HBeKvWir/Klmvf48uuM6cg6FnBCSJyaUgI/E4sICD6NIr4+OFky+Xn8sJFsHMCj+lU3NxqMto9snhDxl5HZdKRBCSDZMKAG//MyvMIQIal58Um8RyFEkXR9hzipr9fInMZfIK9GPLEPE9l2vujcPLpdsWI/OnjhCdW0ui1rFU1Qv38gRKOKzGauy5U7UhOLofU86YqKQWa9amujUXLcyXRxG6/vZVRiEkC8DE0rAgadxtOlfMRS5N+EDf6wOl83hfa8etkRei7ocmdIbDWHaY/r7cw6Ldf3dAiM7JdXIEuUasZbmcDeeUx2V0uruxGnHBy6WtfUY7LKHEer9oXo8rvfPO2KNNPGnA/uOywpjTdaBggkhVzcMakwIIQFlglnghBBCsoUCTgghAYUCTgghAYUCTgghAYUCTgghAYUCTgghAYUCTgghAYUCTgghAYUCTgghAYUCTgghAYUCTgghgQT4/8ie9G3PIpKvAAAAAElFTkSuQmCC)"
      ],
      "metadata": {
        "id": "ZFf8nBqzAhv0"
      }
    },
    {
      "cell_type": "code",
      "source": [
        "# Cross Product Multiplication\n",
        "arr1 = np.array([1,2,3])\n",
        "arr2 = np.array([4,5,6])\n",
        "arr3 = np.cross(arr1,arr2)\n",
        "arr3"
      ],
      "metadata": {
        "colab": {
          "base_uri": "https://localhost:8080/"
        },
        "id": "95pHDN54AEVK",
        "outputId": "c3603257-3412-4380-e8ad-b133ff771b8a"
      },
      "execution_count": 7,
      "outputs": [
        {
          "output_type": "execute_result",
          "data": {
            "text/plain": [
              "array([-3,  6, -3])"
            ]
          },
          "metadata": {},
          "execution_count": 7
        }
      ]
    }
  ]
}