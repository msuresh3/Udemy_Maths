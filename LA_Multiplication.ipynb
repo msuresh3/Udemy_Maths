{
  "nbformat": 4,
  "nbformat_minor": 0,
  "metadata": {
    "colab": {
      "provenance": [],
      "authorship_tag": "ABX9TyPOhNoEq9d4zxUReOMkFJ5j",
      "include_colab_link": true
    },
    "kernelspec": {
      "name": "python3",
      "display_name": "Python 3"
    },
    "language_info": {
      "name": "python"
    }
  },
  "cells": [
    {
      "cell_type": "markdown",
      "metadata": {
        "id": "view-in-github",
        "colab_type": "text"
      },
      "source": [
        "<a href=\"https://colab.research.google.com/github/msuresh3/Udemy_Maths/blob/main/LA_Multiplication.ipynb\" target=\"_parent\"><img src=\"https://colab.research.google.com/assets/colab-badge.svg\" alt=\"Open In Colab\"/></a>"
      ]
    },
    {
      "cell_type": "markdown",
      "source": [
        "# **Linear Algebra**\n",
        "**Vector Multiplication**\n",
        "\n",
        "1. Scalar Product   \n",
        "2. Dot Product  \n",
        "3. Cross Product\n"
      ],
      "metadata": {
        "id": "yRIKS7p1I0eQ"
      }
    },
    {
      "cell_type": "code",
      "execution_count": 14,
      "metadata": {
        "id": "9-z79AvKIrkB"
      },
      "outputs": [],
      "source": [
        "import numpy as np\n",
        "import matplotlib.pyplot as plt\n",
        "#import math"
      ]
    },
    {
      "cell_type": "code",
      "source": [
        "arr1 = np.array([2,3])\n",
        "arr2 = np.array([4,5])"
      ],
      "metadata": {
        "id": "Lq1UFgelJ6Ec"
      },
      "execution_count": 19,
      "outputs": []
    },
    {
      "cell_type": "code",
      "source": [
        "# Scalar Product\n",
        "arr3 = 5 * arr1\n",
        "arr3"
      ],
      "metadata": {
        "colab": {
          "base_uri": "https://localhost:8080/"
        },
        "id": "jZBeQ0w_L-3U",
        "outputId": "20fdb7c3-6dbe-499e-fe9a-7a356b40db57"
      },
      "execution_count": 16,
      "outputs": [
        {
          "output_type": "execute_result",
          "data": {
            "text/plain": [
              "array([10, 15])"
            ]
          },
          "metadata": {},
          "execution_count": 16
        }
      ]
    },
    {
      "cell_type": "code",
      "source": [
        "# Dot Product\n",
        "arr3 = arr1@arr2 # ((2*4) + (3*5)) => 23\n",
        "arr3 = np.dot(arr1,arr2) # ((2*4) + (3*5)) => 23\n",
        "arr3"
      ],
      "metadata": {
        "colab": {
          "base_uri": "https://localhost:8080/"
        },
        "id": "gxC01CevMGwQ",
        "outputId": "f7a8dcfe-8b2c-42ad-a489-aa4b98477d1d"
      },
      "execution_count": 22,
      "outputs": [
        {
          "output_type": "execute_result",
          "data": {
            "text/plain": [
              "23"
            ]
          },
          "metadata": {},
          "execution_count": 22
        }
      ]
    },
    {
      "cell_type": "code",
      "source": [
        "np.dot([2j, 3j], [2j, 3j])"
      ],
      "metadata": {
        "colab": {
          "base_uri": "https://localhost:8080/"
        },
        "id": "XNirZIY7NMDU",
        "outputId": "faa4e2f8-1abe-4497-f829-3fb73bb6988c"
      },
      "execution_count": 23,
      "outputs": [
        {
          "output_type": "execute_result",
          "data": {
            "text/plain": [
              "(-13+0j)"
            ]
          },
          "metadata": {},
          "execution_count": 23
        }
      ]
    },
    {
      "cell_type": "code",
      "source": [
        "a = [[1, 2], [3, 4]]\n",
        "b = [[5, 6], [7, 8]]\n",
        "np.dot(a, b)"
      ],
      "metadata": {
        "colab": {
          "base_uri": "https://localhost:8080/"
        },
        "id": "bHDagwsUNemg",
        "outputId": "00266aa2-7df2-41d1-895c-a759e83e442b"
      },
      "execution_count": 25,
      "outputs": [
        {
          "output_type": "execute_result",
          "data": {
            "text/plain": [
              "array([[19, 22],\n",
              "       [43, 50]])"
            ]
          },
          "metadata": {},
          "execution_count": 25
        }
      ]
    },
    {
      "cell_type": "markdown",
      "source": [
        "![image.png](data:image/png;base64,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)"
      ],
      "metadata": {
        "id": "_cZsJnWyX1Li"
      }
    },
    {
      "cell_type": "code",
      "source": [
        "# Cross Product\n",
        "arr3 = np.cross(arr1,arr2)\n",
        "arr3"
      ],
      "metadata": {
        "colab": {
          "base_uri": "https://localhost:8080/"
        },
        "id": "SsDqFnMbMlYk",
        "outputId": "44fd1e1a-ed30-4e00-a4ab-9c98d3420078"
      },
      "execution_count": 20,
      "outputs": [
        {
          "output_type": "execute_result",
          "data": {
            "text/plain": [
              "array(-2)"
            ]
          },
          "metadata": {},
          "execution_count": 20
        }
      ]
    }
  ]
}